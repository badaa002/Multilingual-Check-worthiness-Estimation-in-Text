{
 "cells": [
  {
   "cell_type": "code",
   "execution_count": 1,
   "metadata": {},
   "outputs": [
    {
     "name": "stderr",
     "output_type": "stream",
     "text": [
      "/var/folders/9c/c2dp0mjx6j36gqbg2j39pgv00000gn/T/ipykernel_83596/1948628432.py:7: DeprecationWarning: \n",
      "Pyarrow will become a required dependency of pandas in the next major release of pandas (pandas 3.0),\n",
      "(to allow more performant data types, such as the Arrow string type, and better interoperability with other libraries)\n",
      "but was not found to be installed on your system.\n",
      "If this would cause problems for you,\n",
      "please provide us feedback at https://github.com/pandas-dev/pandas/issues/54466\n",
      "        \n",
      "  import pandas as pd\n"
     ]
    }
   ],
   "source": [
    "from ollama import Client, Options\n",
    "from typing import Dict, Any, List\n",
    "import yaml\n",
    "import re\n",
    "import os\n",
    "from torch import Tensor\n",
    "import pandas as pd\n",
    "\n",
    "CHECKWORTHY_PROMPT = \"\"\"Given a sentence from a political debate or tweet, your task is to predict if it is fact check-worthy statement or not.\n",
    " Your response must always start with \"My response is: (yes or no based on your prediction)\"\n",
    " your prediction must be yes or no, and i wont accept you prediction to be \"I cannot determine\"\n",
    " Never write \"I'm and AI language model...\"\n",
    " Examples:\n",
    "fact check-worthy: The sky is blue.\n",
    "Not fact check-worthy: I like ice cream.\n",
    "fact check-worthy: The distance between the earth and the moon is 238,855 km.\n",
    "Not fact check-worthy: It made the best ratings in the history of television.\n",
    "fact check-worthy: The unemployment rate is 5.2% in Norway.\n",
    "Not fact check-worthy: I am the best president in the history of the United States.\n",
    "Sentence: {claim}\"\"\""
   ]
  },
  {
   "cell_type": "code",
   "execution_count": 2,
   "metadata": {},
   "outputs": [],
   "source": [
    "class Ollama:\n",
    "    \"\"\"A class for generating questions and interacting with the Ollama API.\"\"\"\n",
    "\n",
    "    def __init__(self, config_path: str = \"mistral.yaml\"):\n",
    "        \"\"\"Initializes the Ollama client and loads necessary configurations.\"\"\"\n",
    "        self._ollama_client = Client(timeout=20)\n",
    "        self._config_path = config_path\n",
    "        self._config = self._load_config()\n",
    "        self._stream = self._config.get(\"stream\", False)\n",
    "        self._model_name = self._config.get(\"model\", \"mistral\")\n",
    "        self._llm_options = self._get_llm_config()\n",
    "\n",
    "    def generate(self, prompt: str) -> str:\n",
    "        \"\"\"Generate text using Ollama LLM for the given prompt.\n",
    "\n",
    "        Args:\n",
    "            prompt: Prompt for the LLM.\n",
    "\n",
    "        Returns:\n",
    "            Response text from an Ollama LLM.\n",
    "        \"\"\"\n",
    "        response = self._ollama_client.generate(\n",
    "            model=self._model_name,\n",
    "            prompt=prompt,\n",
    "            options=self._llm_options,\n",
    "            stream=self._stream,\n",
    "        )\n",
    "        return response.get(\"response\", \"\").strip()  # type: ignore\n",
    "\n",
    "    def _load_config(self) -> Dict[str, Any]:\n",
    "        \"\"\"Loads configuration from a YAML file.\n",
    "\n",
    "        Raises:\n",
    "            FileNotFoundError: If the config file is not found.\n",
    "\n",
    "        Returns:\n",
    "            A dictionary with configuration values.\n",
    "        \"\"\"\n",
    "        if not os.path.isfile(self._config_path):\n",
    "            raise FileNotFoundError(\n",
    "                f\"Config file {self._config_path} not found.\"\n",
    "            )\n",
    "        with open(self._config_path, \"r\") as file:\n",
    "            yaml_data = yaml.safe_load(file)\n",
    "        return yaml_data\n",
    "\n",
    "    def _get_llm_config(self) -> Options:\n",
    "        \"\"\"Extracts and returns the LLM (language learning model) configuration.\n",
    "\n",
    "        Returns:\n",
    "            An Options object with the LLM configuration.\n",
    "        \"\"\"\n",
    "        return Options(self._config.get(\"options\", {}))"
   ]
  },
  {
   "cell_type": "code",
   "execution_count": 3,
   "metadata": {},
   "outputs": [],
   "source": [
    "ollama = Ollama()"
   ]
  },
  {
   "cell_type": "code",
   "execution_count": 4,
   "metadata": {},
   "outputs": [],
   "source": [
    "listofpredicts = list()\n",
    "similarity = 0\n",
    "df = pd.read_csv('../data/processed/processed_CT24_checkworthy_english/processed_dev_test.tsv', sep='\\t')\n",
    "for index, row in df.iterrows():\n",
    "    response = ollama.generate(CHECKWORTHY_PROMPT.format(claim=row['text']))\n",
    "    response_words = response.split()\n",
    "    answer = response_words[3].strip('.,').lower()\n",
    "    if answer == \"yes\" or answer == \"no\":\n",
    "        listofpredicts.append(response_words[3].strip('.,').lower())\n",
    "    else:\n",
    "        listofpredicts.append(\"no\")"
   ]
  },
  {
   "cell_type": "code",
   "execution_count": 5,
   "metadata": {},
   "outputs": [
    {
     "name": "stdout",
     "output_type": "stream",
     "text": [
      "['no', 'no', 'yes', 'no', 'no', 'yes', 'no', 'no', 'no', 'no', 'no', 'no', 'no', 'no', 'no', 'no', 'no', 'yes', 'no', 'yes', 'yes', 'yes', 'yes', 'no', 'no', 'no', 'no', 'no', 'no', 'no', 'no', 'no', 'yes', 'yes', 'no', 'no', 'no', 'no', 'no', 'no', 'no', 'yes', 'no', 'no', 'yes', 'yes', 'no', 'no', 'no', 'no', 'no', 'no', 'no', 'yes', 'yes', 'no', 'no', 'yes', 'yes', 'no', 'no', 'no', 'yes', 'yes', 'no', 'no', 'no', 'yes', 'yes', 'no', 'no', 'yes', 'no', 'no', 'no', 'yes', 'yes', 'no', 'yes', 'yes', 'yes', 'yes', 'yes', 'yes', 'no', 'no', 'no', 'yes', 'no', 'yes', 'no', 'yes', 'yes', 'no', 'no', 'yes', 'no', 'no', 'no', 'no', 'no', 'no', 'no', 'yes', 'no', 'yes', 'no', 'no', 'no', 'no', 'no', 'no', 'yes', 'yes', 'no', 'yes', 'no', 'yes', 'yes', 'yes', 'no', 'no', 'no', 'no', 'yes', 'no', 'no', 'no', 'no', 'no', 'no', 'yes', 'yes', 'no', 'no', 'yes', 'no', 'yes', 'no', 'no', 'no', 'no', 'yes', 'no', 'no', 'yes', 'no', 'no', 'no', 'no', 'no', 'yes', 'no', 'no', 'no', 'yes', 'yes', 'no', 'no', 'no', 'no', 'yes', 'yes', 'yes', 'yes', 'yes', 'no', 'yes', 'yes', 'yes', 'yes', 'no', 'no', 'no', 'no', 'yes', 'yes', 'no', 'no', 'no', 'no', 'no', 'no', 'no', 'no', 'no', 'yes', 'no', 'no', 'no', 'yes', 'yes', 'no', 'no', 'yes', 'no', 'no', 'yes', 'no', 'no', 'no', 'yes', 'yes', 'yes', 'no', 'yes', 'no', 'yes', 'no', 'no', 'no', 'yes', 'yes', 'yes', 'no', 'no', 'no', 'no', 'yes', 'yes', 'no', 'yes', 'no', 'no', 'no', 'no', 'no', 'yes', 'yes', 'no', 'no', 'no', 'yes', 'no', 'yes', 'yes', 'no', 'no', 'no', 'no', 'yes', 'no', 'no', 'no', 'yes', 'yes', 'no', 'no', 'yes', 'yes', 'no', 'no', 'no', 'no', 'no', 'no', 'no', 'no', 'no', 'yes', 'no', 'yes', 'no', 'no', 'no', 'yes', 'yes', 'yes', 'yes', 'yes', 'no', 'yes', 'no', 'yes', 'no', 'no', 'yes', 'yes', 'yes', 'no', 'no', 'no', 'no', 'yes', 'no', 'yes', 'no', 'yes', 'no', 'no', 'no', 'yes', 'no', 'yes', 'no', 'no', 'yes', 'no', 'no', 'yes', 'yes', 'yes', 'yes', 'yes', 'no', 'yes', 'no', 'no', 'yes', 'yes', 'no', 'no', 'yes', 'yes', 'no', 'no', 'no', 'no']\n",
      "Similarity mistral/dataset:  84.59119496855347\n"
     ]
    }
   ],
   "source": [
    "for index, row in df.iterrows():\n",
    "    if row['class_label'].lower() == listofpredicts[index]:\n",
    "        similarity += 1\n",
    "print(listofpredicts)\n",
    "similarity_score = (similarity / len(listofpredicts)) * 100\n",
    "print(\"Similarity mistral/dataset: \", similarity_score)"
   ]
  }
 ],
 "metadata": {
  "kernelspec": {
   "display_name": "Python 3",
   "language": "python",
   "name": "python3"
  },
  "language_info": {
   "codemirror_mode": {
    "name": "ipython",
    "version": 3
   },
   "file_extension": ".py",
   "mimetype": "text/x-python",
   "name": "python",
   "nbconvert_exporter": "python",
   "pygments_lexer": "ipython3",
   "version": "3.11.6"
  }
 },
 "nbformat": 4,
 "nbformat_minor": 2
}
