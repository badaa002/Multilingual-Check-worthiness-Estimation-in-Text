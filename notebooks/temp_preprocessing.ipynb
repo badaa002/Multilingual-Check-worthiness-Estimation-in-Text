{
 "cells": [
  {
   "cell_type": "code",
   "execution_count": 13,
   "metadata": {},
   "outputs": [],
   "source": [
    "import pandas as pd\n",
    "import numpy as np\n",
    "import matplotlib.pyplot as plt\n",
    "import seaborn as sns\n",
    "import nltk\n",
    "import re\n",
    "import spacy\n",
    "from sklearn.preprocessing import LabelEncoder\n",
    "from collections import Counter\n",
    "from textblob import TextBlob\n",
    "from sklearn.utils import resample"
   ]
  },
  {
   "cell_type": "code",
   "execution_count": 28,
   "metadata": {},
   "outputs": [
    {
     "name": "stdout",
     "output_type": "stream",
     "text": [
      "5413 17081\n",
      "404 590\n",
      "3120 16822\n",
      "2243 5090\n",
      "238 794\n",
      "102 150\n",
      "704 4296\n",
      "411 682\n",
      "108 210\n",
      "316 350\n",
      "509 4491\n",
      "377 123\n"
     ]
    }
   ],
   "source": [
    "en_train = \"../data/processed/processed_CT24_checkworthy_english/processed_train.tsv\"\n",
    "du_train = \"../data/processed/processed_CT24_checkworthy_dutch/processed_dutch_train.tsv\"  # noqa\n",
    "es_train = \"../data/processed/processed_CT24_checkworthy_spanish/processed_spanish_train.tsv\"  # noqa\n",
    "ar_train = \"../data/processed/processed_CT24_checkworthy_arabic/processed_arabic_train.tsv\"  # noqa\n",
    "\n",
    "en_test = \"../data/processed/processed_CT24_checkworthy_english/processed_dev.tsv\"\n",
    "du_test = \"../data/processed/processed_CT24_checkworthy_dutch/processed_dutch_dev.tsv\"\n",
    "es_test = \"../data/processed/processed_CT24_checkworthy_spanish/processed_spanish_dev.tsv\"  # noqa\n",
    "ar_test = \"../data/processed/processed_CT24_checkworthy_arabic/processed_arabic_dev.tsv\"\n",
    "\n",
    "en_dev_test = \"../data/processed/processed_CT24_checkworthy_english/processed_dev_test.tsv\"  # noqa\n",
    "du_dev_test = \"../data/processed/processed_CT24_checkworthy_dutch/processed_dutch_dev_test.tsv\"  # noqa\n",
    "es_dev_test = \"../data/processed/processed_CT24_checkworthy_spanish/processed_spanish_dev_test.tsv\"  # noqa\n",
    "ar_dev_test = \"../data/processed/processed_CT24_checkworthy_arabic/processed_arabic_dev_test.tsv\"  # noqa\n",
    "\n",
    "en_train = pd.read_csv(en_train, sep=\"\\t\")\n",
    "du_train = pd.read_csv(du_train, sep=\"\\t\")\n",
    "es_train = pd.read_csv(es_train, sep=\"\\t\")\n",
    "ar_train = pd.read_csv(ar_train, sep=\"\\t\")\n",
    "\n",
    "en_test = pd.read_csv(en_test, sep=\"\\t\")\n",
    "du_test = pd.read_csv(du_test, sep=\"\\t\")\n",
    "es_test = pd.read_csv(es_test, sep=\"\\t\")\n",
    "ar_test = pd.read_csv(ar_test, sep=\"\\t\")\n",
    "\n",
    "en_dev_test = pd.read_csv(en_dev_test, sep=\"\\t\")\n",
    "du_dev_test = pd.read_csv(du_dev_test, sep=\"\\t\")\n",
    "es_dev_test = pd.read_csv(es_dev_test, sep=\"\\t\")\n",
    "ar_dev_test = pd.read_csv(ar_dev_test, sep=\"\\t\")\n",
    "\n",
    "\n",
    "def resample_to_fixed_number(df, n_samples=10000):\n",
    "    ones = df[df[\"class_label\"] == \"Yes\"]\n",
    "    zeros = df[df[\"class_label\"] == \"No\"]\n",
    "    print(len(ones), len(zeros))\n",
    "    sets = []\n",
    "    for dset in [ones, zeros]:\n",
    "        if len(dset) < n_samples // 2:\n",
    "            sets.append(\n",
    "                resample(dset, replace=True, n_samples=n_samples // 2, random_state=567)\n",
    "            )\n",
    "        else:\n",
    "            sets.append(\n",
    "                resample(\n",
    "                    dset, replace=False, n_samples=n_samples // 2, random_state=567\n",
    "                )\n",
    "            )\n",
    "    return pd.concat(sets)\n",
    "\n",
    "\n",
    "# Applying the resampling function to each train, test, and dev_test dataset\n",
    "en_train = resample_to_fixed_number(en_train, 10000)\n",
    "du_train = resample_to_fixed_number(du_train, 10000)\n",
    "es_train = resample_to_fixed_number(es_train, 10000)\n",
    "ar_train = resample_to_fixed_number(ar_train, 10000)\n",
    "\n",
    "en_test = resample_to_fixed_number(en_test, 500)\n",
    "du_test = resample_to_fixed_number(du_test, 500)\n",
    "es_test = resample_to_fixed_number(es_test, 500)\n",
    "ar_test = resample_to_fixed_number(ar_test, 500)\n",
    "\n",
    "en_dev_test = resample_to_fixed_number(en_dev_test, 500)\n",
    "du_dev_test = resample_to_fixed_number(du_dev_test, 500)\n",
    "es_dev_test = resample_to_fixed_number(es_dev_test, 500)\n",
    "ar_dev_test = resample_to_fixed_number(ar_dev_test, 500)"
   ]
  },
  {
   "cell_type": "code",
   "execution_count": 29,
   "metadata": {},
   "outputs": [
    {
     "data": {
      "text/plain": [
       "(10000, 11)"
      ]
     },
     "metadata": {},
     "output_type": "display_data"
    },
    {
     "data": {
      "text/plain": [
       "(10000, 11)"
      ]
     },
     "metadata": {},
     "output_type": "display_data"
    },
    {
     "data": {
      "text/plain": [
       "(10000, 11)"
      ]
     },
     "metadata": {},
     "output_type": "display_data"
    },
    {
     "data": {
      "text/plain": [
       "(10000, 11)"
      ]
     },
     "metadata": {},
     "output_type": "display_data"
    }
   ],
   "source": [
    "display(en_train.shape)\n",
    "display(du_train.shape)\n",
    "display(es_train.shape)\n",
    "display(ar_train.shape)"
   ]
  },
  {
   "cell_type": "code",
   "execution_count": 30,
   "metadata": {},
   "outputs": [
    {
     "name": "stdout",
     "output_type": "stream",
     "text": [
      "Ones: 20000\n",
      "Zeroes: 20000\n"
     ]
    }
   ],
   "source": [
    "ones = []\n",
    "zeroes = []\n",
    "for df in [en_train, du_train, es_train, ar_train]:\n",
    "    for i in range(len(df)):\n",
    "        if df.iloc[i][\"class_label\"] == \"Yes\":\n",
    "            ones.append(1)\n",
    "        else:\n",
    "            zeroes.append(0)\n",
    "\n",
    "print(\"Ones:\", len(ones))\n",
    "print(\"Zeroes:\", len(zeroes))"
   ]
  },
  {
   "cell_type": "code",
   "execution_count": 31,
   "metadata": {},
   "outputs": [],
   "source": [
    "trains = [en_train, du_train, es_train, ar_train]\n",
    "tests = [en_test, du_test, es_test, ar_test]\n",
    "dev_tests = [en_dev_test, du_dev_test, es_dev_test, ar_dev_test]\n",
    "\n",
    "\n",
    "cols_to_keep = [\n",
    "    \"tweet_text\",\n",
    "    \"Text\",\n",
    "    \"class_label\",\n",
    "    \"hashtags\",\n",
    "    \"mentions\",\n",
    "    \"text_length\",\n",
    "    \"text_length_category\",\n",
    "    \"hashtags_frequency\",\n",
    "    \"hashtags_sentiment\",\n",
    "    \"hashtags_topics\",\n",
    "]\n",
    "\n",
    "for train in [\n",
    "    en_train,\n",
    "    du_train,\n",
    "    es_train,\n",
    "    ar_train,\n",
    "    en_test,\n",
    "    du_test,\n",
    "    es_test,\n",
    "    ar_test,\n",
    "    en_dev_test,\n",
    "    du_dev_test,\n",
    "    es_dev_test,\n",
    "    ar_dev_test,\n",
    "]:\n",
    "    cols_to_drop = [col for col in train.columns if col not in cols_to_keep]\n",
    "    train.drop(columns=cols_to_drop, inplace=True)\n",
    "    train.rename(\n",
    "        columns={\"Text\": \"text\", \"class_label\": \"label\", \"tweet_text\": \"text\"},\n",
    "        inplace=True,\n",
    "    )\n",
    "\n",
    "merged_train = pd.concat(trains).sample(frac=1).reset_index(drop=True)\n",
    "merged_test = pd.concat(tests).sample(frac=1).reset_index(drop=True)\n",
    "merged_dev_test = pd.concat(dev_tests).sample(frac=1).reset_index(drop=True)\n",
    "\n",
    "merged_train[\"label\"] = merged_train[\"label\"].apply(lambda x: 1 if x == \"Yes\" else 0)\n",
    "merged_test[\"label\"] = merged_test[\"label\"].apply(lambda x: 1 if x == \"Yes\" else 0)\n",
    "merged_dev_test[\"label\"] = merged_dev_test[\"label\"].apply(\n",
    "    lambda x: 1 if x == \"Yes\" else 0\n",
    ")\n",
    "\n",
    "merged_train.to_csv(\"../data/processed/merged_train.tsv\", sep=\"\\t\", index=False)\n",
    "merged_test.to_csv(\"../data/processed/merged_test.tsv\", sep=\"\\t\", index=False)\n",
    "merged_dev_test.to_csv(\"../data/processed/merged_dev_test.tsv\", sep=\"\\t\", index=False)"
   ]
  }
 ],
 "metadata": {
  "kernelspec": {
   "display_name": "ml",
   "language": "python",
   "name": "python3"
  },
  "language_info": {
   "codemirror_mode": {
    "name": "ipython",
    "version": 3
   },
   "file_extension": ".py",
   "mimetype": "text/x-python",
   "name": "python",
   "nbconvert_exporter": "python",
   "pygments_lexer": "ipython3",
   "version": "3.11.7"
  }
 },
 "nbformat": 4,
 "nbformat_minor": 2
}
