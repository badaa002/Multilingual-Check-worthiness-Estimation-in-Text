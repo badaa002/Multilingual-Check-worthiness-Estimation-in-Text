{
 "cells": [
  {
   "cell_type": "code",
   "execution_count": 20,
   "metadata": {},
   "outputs": [],
   "source": [
    "import pandas as pd\n",
    "import numpy as np\n",
    "import matplotlib.pyplot as plt\n",
    "import seaborn as sns\n",
    "import nltk\n",
    "import re\n",
    "import spacy\n",
    "from sklearn.preprocessing import LabelEncoder\n",
    "from collections import Counter\n",
    "from textblob import TextBlob\n",
    "from sklearn.utils import resample\n",
    "from googletrans import Translator"
   ]
  },
  {
   "cell_type": "code",
   "execution_count": 21,
   "metadata": {},
   "outputs": [],
   "source": [
    "en_train = \"../data/processed/processed_CT24_checkworthy_english/processed_train.tsv\"\n",
    "du_train = \"../data/processed/processed_CT24_checkworthy_dutch/processed_dutch_train.tsv\"  # noqa\n",
    "es_train = \"../data/processed/processed_CT24_checkworthy_spanish/processed_spanish_train.tsv\"  # noqa\n",
    "ar_train = \"../data/processed/processed_CT24_checkworthy_arabic/processed_arabic_train.tsv\"  # noqa\n",
    "\n",
    "en_train = pd.read_csv(en_train, sep=\"\\t\")\n",
    "du_train = pd.read_csv(du_train, sep=\"\\t\")\n",
    "es_train = pd.read_csv(es_train, sep=\"\\t\")\n",
    "ar_train = pd.read_csv(ar_train, sep=\"\\t\")"
   ]
  },
  {
   "cell_type": "code",
   "execution_count": 22,
   "metadata": {},
   "outputs": [],
   "source": [
    "import ast\n",
    "\n",
    "\n",
    "trains = [en_train, du_train, es_train, ar_train]\n",
    "\n",
    "\n",
    "cols_to_keep = [\n",
    "    \"tweet_text\",\n",
    "    \"Text\",\n",
    "    \"class_label\",\n",
    "    \"hashtags\",\n",
    "    \"mentions\",\n",
    "    \"text_length\",\n",
    "    \"text_length_category\",\n",
    "    \"hashtags_frequency\",\n",
    "    \"hashtags_sentiment\",\n",
    "    \"hashtags_topics\",\n",
    "]\n",
    "\n",
    "for train in [en_train, du_train, es_train, ar_train]:\n",
    "    cols_to_drop = [col for col in train.columns if col not in cols_to_keep]\n",
    "    train.drop(columns=cols_to_drop, inplace=True)\n",
    "    train.rename(\n",
    "        columns={\"Text\": \"tweet_text\"},\n",
    "        inplace=True,\n",
    "    )\n",
    "\n",
    "# es_train[\"hashtags\"] = es_train[\"hashtags\"].apply(\n",
    "#     lambda x: \" \".join(ast.literal_eval(x))\n",
    "# )"
   ]
  },
  {
   "cell_type": "code",
   "execution_count": 23,
   "metadata": {},
   "outputs": [
    {
     "name": "stderr",
     "output_type": "stream",
     "text": [
      "  0%|          | 0/10000 [00:00<?, ?it/s]"
     ]
    },
    {
     "name": "stderr",
     "output_type": "stream",
     "text": [
      " 95%|█████████▍| 9452/10000 [1:01:46<05:02,  1.81it/s]"
     ]
    },
    {
     "name": "stdout",
     "output_type": "stream",
     "text": [
      "Error translating text: 'translations'\n"
     ]
    },
    {
     "name": "stderr",
     "output_type": "stream",
     "text": [
      " 95%|█████████▍| 9487/10000 [1:02:01<02:05,  4.10it/s]"
     ]
    },
    {
     "name": "stdout",
     "output_type": "stream",
     "text": [
      "Error translating text: 'translations'\n"
     ]
    },
    {
     "name": "stderr",
     "output_type": "stream",
     "text": [
      "100%|██████████| 10000/10000 [1:05:26<00:00,  2.55it/s]\n"
     ]
    }
   ],
   "source": [
    "import translators as ts\n",
    "from tqdm import tqdm\n",
    "\n",
    "tqdm.pandas()\n",
    "\n",
    "\n",
    "def translate_text(text, src_lang, dest_lang):\n",
    "    if pd.notna(text) and src_lang != dest_lang:\n",
    "        try:\n",
    "            return ts.translate_text(\n",
    "                text, from_language=src_lang, to_language=dest_lang\n",
    "            )\n",
    "        except Exception as e:\n",
    "            print(f\"Error translating text: {e}\")\n",
    "            return text\n",
    "    return text\n",
    "\n",
    "\n",
    "trans_en = en_train.copy().sample(10000)\n",
    "trans_en[\"tweet_text\"] = trans_en[\"tweet_text\"].progress_apply(\n",
    "    lambda x: translate_text(x, \"en\", \"es\")\n",
    ")\n",
    "\n",
    "trans_en.to_csv(\n",
    "    \"../data/processed/processed_CT24_checkworthy_spanish/translated_processed_train.tsv\",\n",
    "    sep=\"\\t\",\n",
    ")"
   ]
  }
 ],
 "metadata": {
  "kernelspec": {
   "display_name": "ml",
   "language": "python",
   "name": "python3"
  },
  "language_info": {
   "codemirror_mode": {
    "name": "ipython",
    "version": 3
   },
   "file_extension": ".py",
   "mimetype": "text/x-python",
   "name": "python",
   "nbconvert_exporter": "python",
   "pygments_lexer": "ipython3",
   "version": "3.11.7"
  }
 },
 "nbformat": 4,
 "nbformat_minor": 2
}
