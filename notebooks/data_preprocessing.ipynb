{
  "cells": [
    {
      "cell_type": "markdown",
      "metadata": {
        "id": "4LhP-vtTx3pC"
      },
      "source": [
        "# **Data Processing**\n"
      ]
    },
    {
      "cell_type": "code",
      "execution_count": 1,
      "metadata": {
        "id": "eo4HPuTfaEXn"
      },
      "outputs": [],
      "source": [
        "import re\n",
        "import nltk\n",
        "import pandas as pd\n",
        "import csv\n",
        "import spacy"
      ]
    },
    {
      "cell_type": "markdown",
      "metadata": {
        "id": "1Xam0IaWOxeW"
      },
      "source": [
        "**Reading tsv and fixing collisions**"
      ]
    },
    {
      "cell_type": "code",
      "execution_count": 2,
      "metadata": {
        "id": "qAzUHhElLaiz"
      },
      "outputs": [
        {
          "data": {
            "text/html": [
              "<div>\n",
              "<style scoped>\n",
              "    .dataframe tbody tr th:only-of-type {\n",
              "        vertical-align: middle;\n",
              "    }\n",
              "\n",
              "    .dataframe tbody tr th {\n",
              "        vertical-align: top;\n",
              "    }\n",
              "\n",
              "    .dataframe thead th {\n",
              "        text-align: right;\n",
              "    }\n",
              "</style>\n",
              "<table border=\"1\" class=\"dataframe\">\n",
              "  <thead>\n",
              "    <tr style=\"text-align: right;\">\n",
              "      <th></th>\n",
              "      <th>sentence_id</th>\n",
              "      <th>text</th>\n",
              "      <th>class_label</th>\n",
              "    </tr>\n",
              "  </thead>\n",
              "  <tbody>\n",
              "    <tr>\n",
              "      <th>0</th>\n",
              "      <td>30313</td>\n",
              "      <td>And so I know that this campaign has caused so...</td>\n",
              "      <td>No</td>\n",
              "    </tr>\n",
              "    <tr>\n",
              "      <th>1</th>\n",
              "      <td>19099</td>\n",
              "      <td>\"Now, let's balance the budget and protect Med...</td>\n",
              "      <td>No</td>\n",
              "    </tr>\n",
              "    <tr>\n",
              "      <th>2</th>\n",
              "      <td>33964</td>\n",
              "      <td>I'd like to mention one thing.</td>\n",
              "      <td>No</td>\n",
              "    </tr>\n",
              "    <tr>\n",
              "      <th>3</th>\n",
              "      <td>16871</td>\n",
              "      <td>I must remind him the Democrats have controlle...</td>\n",
              "      <td>Yes</td>\n",
              "    </tr>\n",
              "    <tr>\n",
              "      <th>4</th>\n",
              "      <td>13150</td>\n",
              "      <td>\"And to take a chance uh - now be - and not ma...</td>\n",
              "      <td>No</td>\n",
              "    </tr>\n",
              "  </tbody>\n",
              "</table>\n",
              "</div>"
            ],
            "text/plain": [
              "  sentence_id                                               text class_label\n",
              "0       30313  And so I know that this campaign has caused so...          No\n",
              "1       19099  \"Now, let's balance the budget and protect Med...          No\n",
              "2       33964                     I'd like to mention one thing.          No\n",
              "3       16871  I must remind him the Democrats have controlle...         Yes\n",
              "4       13150  \"And to take a chance uh - now be - and not ma...          No"
            ]
          },
          "execution_count": 2,
          "metadata": {},
          "output_type": "execute_result"
        }
      ],
      "source": [
        "def open_tsv_file(filename):\n",
        "    rows = []\n",
        "    with open(filename, \"r\") as file:\n",
        "        for line in file:\n",
        "            fields = line.strip().split(\"\\t\")\n",
        "            # Check if the line contains more than three fields (indicating a combined line)\n",
        "            if len(fields) > 3:\n",
        "                match = re.match(r\"(.*?)(Yes|No)(\\d+)\", fields[2])\n",
        "                if match:\n",
        "                    class_label = match.group(2)\n",
        "                    next_sentence_id = match.group(3)\n",
        "                    # Append two separate rows with corrected structure\n",
        "                    rows.append([fields[0], fields[1], class_label])\n",
        "                    rows.append([next_sentence_id, fields[3], fields[4]])\n",
        "            else:\n",
        "                rows.append(fields)\n",
        "    return rows\n",
        "\n",
        "\n",
        "rows = open_tsv_file(\"../data/raw/CT24_checkworthy_english_train.tsv\")\n",
        "train_df = pd.DataFrame(rows[1:], columns=[\"sentence_id\", \"text\", \"class_label\"])\n",
        "train_df.head()"
      ]
    },
    {
      "cell_type": "markdown",
      "metadata": {
        "id": "FaYD3AMCp30W"
      },
      "source": [
        "# Data exploration\n",
        "\n",
        "\n",
        "\n",
        "*   Check for any missing values.\n",
        "*   Examine the distribution of class labels to see if there's class imbalance\n",
        "*   Explore the length of the text data to understand its distribution.  \n",
        "\n"
      ]
    },
    {
      "cell_type": "code",
      "execution_count": 3,
      "metadata": {
        "id": "qqLWYs-tqMyu"
      },
      "outputs": [
        {
          "name": "stdout",
          "output_type": "stream",
          "text": [
            "Missing values:\n",
            " sentence_id    0\n",
            "text           0\n",
            "class_label    0\n",
            "dtype: int64\n",
            "\n",
            "Class distribution:\n",
            " class_label\n",
            "No     0.759433\n",
            "Yes    0.240567\n",
            "Name: proportion, dtype: float64\n",
            "\n",
            "Text length statistics:\n",
            "Mean: 17.943602506555266\n",
            "Median: 14.0\n",
            "Minimum: 1\n",
            "Maximum: 152\n"
          ]
        }
      ],
      "source": [
        "def data_exploration(train_df):\n",
        "    # Check for any missing values\n",
        "    missing_values = train_df.isnull().sum()\n",
        "    print(\"Missing values:\\n\", missing_values)\n",
        "\n",
        "    # Examine the distribution of class labels\n",
        "    class_distribution = train_df[\"class_label\"].value_counts(normalize=True)\n",
        "    print(\"\\nClass distribution:\\n\", class_distribution)\n",
        "\n",
        "    # Explore the length of the text data\n",
        "    text_length = train_df[\"text\"].apply(lambda x: len(x.split()))\n",
        "    print(\"\\nText length statistics:\")\n",
        "    print(\"Mean:\", text_length.mean())\n",
        "    print(\"Median:\", text_length.median())\n",
        "    print(\"Minimum:\", text_length.min())\n",
        "    print(\"Maximum:\", text_length.max())\n",
        "    return\n",
        "\n",
        "\n",
        "data_exploration(train_df)"
      ]
    },
    {
      "cell_type": "code",
      "execution_count": 4,
      "metadata": {
        "cellView": "form",
        "id": "4R-GnM9Lm3WW"
      },
      "outputs": [
        {
          "data": {
            "image/png": "[encoded data removed]",
            "text/plain": [
              "<Figure size 640x480 with 1 Axes>"
            ]
          },
          "metadata": {},
          "output_type": "display_data"
        }
      ],
      "source": [
        "# @title class_label\n",
        "\n",
        "from matplotlib import pyplot as plt\n",
        "import seaborn as sns\n",
        "\n",
        "train_df.groupby(\"class_label\").size().plot(\n",
        "    kind=\"barh\", color=sns.palettes.mpl_palette(\"Dark2\")\n",
        ")\n",
        "plt.gca().spines[\n",
        "    [\n",
        "        \"top\",\n",
        "        \"right\",\n",
        "    ]\n",
        "].set_visible(False)"
      ]
    },
    {
      "cell_type": "markdown",
      "metadata": {
        "id": "OrDW0RK83Irn"
      },
      "source": [
        "# **Essential preprocessing**\n",
        "1.   Normalization (additionally: Named Entity Recognition (NER),Part-of-Speech (POS) Taggin)  \n",
        "2.   Tokenization (XLM-RoBERTa tokenizer)\n",
        "3.   Saving the processed train data for further use"
      ]
    },
    {
      "cell_type": "markdown",
      "metadata": {
        "id": "Xw5D5LqCKja9"
      },
      "source": [
        "# Feature Engineering\n",
        "\n",
        "  Once the text is normalized, adding feature engineering techniques to enhance the dataset.    \n",
        "  \n",
        "  Word Count: It counts the number of words in each text.\n",
        "  \n",
        "  Sentiment Polarity: It measures the sentiment polarity (positive, negative, or neutral) of the text using TextBlob.\n",
        "  \n",
        "  Subjectivity: It measures the subjectivity (opinionated vs. factual) of the text using TextBlob.\n"
      ]
    },
    {
      "cell_type": "code",
      "execution_count": 5,
      "metadata": {
        "id": "97LoxuNU7f0n"
      },
      "outputs": [
        {
          "name": "stdout",
          "output_type": "stream",
          "text": [
            "  sentence_id                                               text class_label  \\\n",
            "0       30313  and so I know that this campaign have cause so...          No   \n",
            "1       19099  now let be balance the budget and protect Medi...          No   \n",
            "2       33964                  I would like to mention one thing          No   \n",
            "3       16871  I must remind he the Democrats have control th...         Yes   \n",
            "4       13150  and to take a chance uh   now be   and not mak...          No   \n",
            "\n",
            "   sentiment  subjectivity  word_count  \n",
            "0        0.5      0.500000          22  \n",
            "1        0.0      0.000000          14  \n",
            "2        0.0      0.000000           7  \n",
            "3        0.0      0.066667          22  \n",
            "4        0.8      0.750000          32  \n"
          ]
        }
      ],
      "source": [
        "from textblob import TextBlob\n",
        "\n",
        "# Load the spaCy model for lemmatization and named entity recognition (NER)\n",
        "nlp = spacy.load(\"en_core_web_sm\")\n",
        "\n",
        "# Pre-compile regular expressions\n",
        "contractions = {\n",
        "    r\"n't\": \" not\",\n",
        "    r\"'s\": \" is\",\n",
        "    r\"'m\": \" am\",\n",
        "    r\"'re\": \" are\",\n",
        "    r\"'ll\": \" will\",\n",
        "    r\"'ve\": \" have\",\n",
        "    r\"'d\": \" would\",\n",
        "}\n",
        "contractions_re = re.compile(r\"|\".join(contractions.keys()))\n",
        "\n",
        "special_chars_re = re.compile(r\"[^a-zA-Z0-9\\s]\")\n",
        "\n",
        "# Custom stopword list\n",
        "custom_stopwords = {\"the\", \"and\", \"to\", \"of\", \"in\", \"for\", \"a\", \"on\", \"is\", \"at\", \"it\"}\n",
        "\n",
        "\n",
        "def normalize_text(text):\n",
        "    # Handle contractions and possessive forms\n",
        "    text = contractions_re.sub(lambda m: contractions[m.group(0)], text)\n",
        "\n",
        "    # Remove special characters except letters, numbers, and spaces\n",
        "    text = special_chars_re.sub(\"\", text)\n",
        "\n",
        "    # Perform lemmatization\n",
        "    doc = nlp(text)\n",
        "    lemmatized_text = \" \".join([token.lemma_ for token in doc])\n",
        "\n",
        "    return lemmatized_text\n",
        "\n",
        "\n",
        "def count_words(text):\n",
        "    return len(text.split())\n",
        "\n",
        "\n",
        "def compute_sentiment(text):\n",
        "    blob = TextBlob(text)\n",
        "    return blob.sentiment.polarity\n",
        "\n",
        "\n",
        "def compute_subjectivity(text):\n",
        "    blob = TextBlob(text)\n",
        "    return blob.sentiment.subjectivity\n",
        "\n",
        "\n",
        "def full_feature_engineering(df):\n",
        "    # Apply normalization\n",
        "    df[\"text\"] = df[\"text\"].apply(normalize_text)\n",
        "\n",
        "    # Batch processing for sentiment analysis\n",
        "    df[\"sentiment\"] = df[\"text\"].apply(compute_sentiment)\n",
        "    df[\"subjectivity\"] = df[\"text\"].apply(compute_subjectivity)\n",
        "\n",
        "    # Count words\n",
        "    df[\"word_count\"] = df[\"text\"].apply(count_words)\n",
        "\n",
        "    return df\n",
        "\n",
        "\n",
        "# Apply feature engineering\n",
        "train_df = full_feature_engineering(train_df)\n",
        "\n",
        "# Save preprocessed data\n",
        "train_df.to_csv(\"../data/processed/preprocessed_train.tsv\", sep=\"\\t\", index=False)\n",
        "\n",
        "print(train_df.head())"
      ]
    },
    {
      "cell_type": "markdown",
      "metadata": {
        "id": "XTZCU1Biy-hQ"
      },
      "source": [
        "# **Preprocessing for Evaluation**\n",
        "\n",
        "For other files (dev.tsv and dev-test.tsv), since they contain only two columns (sentence_id and text).\n",
        "\n",
        "*   Preprocess the dev_df and dev_test_df dataframes using the existing functions.\n",
        "*   Save the processed data into separate TSV files (processed_dev.tsv and processed_dev_test.tsv) for evaluation."
      ]
    },
    {
      "cell_type": "code",
      "execution_count": 6,
      "metadata": {
        "id": "L8jmy364zSlL"
      },
      "outputs": [],
      "source": [
        "def preprocess_texts_batch(texts):\n",
        "    # Normalize text\n",
        "    normalized_texts = [normalize_text(text) for text in texts]\n",
        "    return normalized_texts\n",
        "\n",
        "\n",
        "def preprocess_dev_data(df):\n",
        "    # Batch processing for normalization\n",
        "    df[\"text\"] = preprocess_texts_batch(df[\"text\"])\n",
        "\n",
        "    # Feature engineering\n",
        "    full_feature_engineering(df)\n",
        "    return df\n",
        "\n",
        "\n",
        "def save_processed_dev_data(df, filepath):\n",
        "    df.to_csv(filepath, sep=\"\\t\", index=False)\n",
        "\n",
        "\n",
        "# Load dev.tsv file\n",
        "dev_df = pd.read_csv(\"../data/raw/CT24_checkworthy_english_dev.tsv\", sep=\"\\t\")\n",
        "dev_df.columns = map(str.lower, dev_df.columns)\n",
        "\n",
        "# Load dev-test.tsv file\n",
        "dev_test_df = pd.read_csv(\"../data/raw/CT24_checkworthy_english_dev-test.tsv\", sep=\"\\t\")\n",
        "dev_test_df.columns = map(str.lower, dev_test_df.columns)\n",
        "\n",
        "# Preprocessing dev_df\n",
        "processed_dev_data = preprocess_dev_data(dev_df)\n",
        "save_processed_dev_data(processed_dev_data, \"../data/processed/processed_dev.tsv\")\n",
        "\n",
        "# Preprocessing dev_test_df\n",
        "processed_dev_test_data = preprocess_dev_data(dev_test_df)\n",
        "save_processed_dev_data(\n",
        "    processed_dev_test_data, \"../data/processed/processed_dev_test.tsv\"\n",
        ")"
      ]
    },
    {
      "cell_type": "markdown",
      "metadata": {
        "id": "wOwf-XGCJlgu"
      },
      "source": [
        "# **Tokenization for XML-RoBERTa-Large**"
      ]
    },
    {
      "cell_type": "code",
      "execution_count": 7,
      "metadata": {
        "id": "E-sN6mKBJlG2"
      },
      "outputs": [
        {
          "data": {
            "text/html": [
              "<div>\n",
              "<style scoped>\n",
              "    .dataframe tbody tr th:only-of-type {\n",
              "        vertical-align: middle;\n",
              "    }\n",
              "\n",
              "    .dataframe tbody tr th {\n",
              "        vertical-align: top;\n",
              "    }\n",
              "\n",
              "    .dataframe thead th {\n",
              "        text-align: right;\n",
              "    }\n",
              "</style>\n",
              "<table border=\"1\" class=\"dataframe\">\n",
              "  <thead>\n",
              "    <tr style=\"text-align: right;\">\n",
              "      <th></th>\n",
              "      <th>sentence_id</th>\n",
              "      <th>text</th>\n",
              "      <th>class_label</th>\n",
              "      <th>sentiment</th>\n",
              "      <th>subjectivity</th>\n",
              "      <th>word_count</th>\n",
              "      <th>tokenized_text</th>\n",
              "    </tr>\n",
              "  </thead>\n",
              "  <tbody>\n",
              "    <tr>\n",
              "      <th>0</th>\n",
              "      <td>30313</td>\n",
              "      <td>and so I know that this campaign have cause so...</td>\n",
              "      <td>0</td>\n",
              "      <td>0.50</td>\n",
              "      <td>0.500000</td>\n",
              "      <td>22</td>\n",
              "      <td>[input_ids, attention_mask]</td>\n",
              "    </tr>\n",
              "    <tr>\n",
              "      <th>1</th>\n",
              "      <td>19099</td>\n",
              "      <td>now let be balance the budget and protect Medi...</td>\n",
              "      <td>0</td>\n",
              "      <td>0.00</td>\n",
              "      <td>0.000000</td>\n",
              "      <td>14</td>\n",
              "      <td>[input_ids, attention_mask]</td>\n",
              "    </tr>\n",
              "    <tr>\n",
              "      <th>2</th>\n",
              "      <td>33964</td>\n",
              "      <td>I would like to mention one thing</td>\n",
              "      <td>0</td>\n",
              "      <td>0.00</td>\n",
              "      <td>0.000000</td>\n",
              "      <td>7</td>\n",
              "      <td>[input_ids, attention_mask]</td>\n",
              "    </tr>\n",
              "    <tr>\n",
              "      <th>3</th>\n",
              "      <td>16871</td>\n",
              "      <td>I must remind he the Democrats have control th...</td>\n",
              "      <td>1</td>\n",
              "      <td>0.00</td>\n",
              "      <td>0.066667</td>\n",
              "      <td>22</td>\n",
              "      <td>[input_ids, attention_mask]</td>\n",
              "    </tr>\n",
              "    <tr>\n",
              "      <th>4</th>\n",
              "      <td>13150</td>\n",
              "      <td>and to take a chance uh   now be   and not mak...</td>\n",
              "      <td>0</td>\n",
              "      <td>0.80</td>\n",
              "      <td>0.750000</td>\n",
              "      <td>32</td>\n",
              "      <td>[input_ids, attention_mask]</td>\n",
              "    </tr>\n",
              "    <tr>\n",
              "      <th>...</th>\n",
              "      <td>...</td>\n",
              "      <td>...</td>\n",
              "      <td>...</td>\n",
              "      <td>...</td>\n",
              "      <td>...</td>\n",
              "      <td>...</td>\n",
              "      <td>...</td>\n",
              "    </tr>\n",
              "    <tr>\n",
              "      <th>22496</th>\n",
              "      <td>29631</td>\n",
              "      <td>it would be squander too believe I</td>\n",
              "      <td>0</td>\n",
              "      <td>0.00</td>\n",
              "      <td>0.000000</td>\n",
              "      <td>7</td>\n",
              "      <td>[input_ids, attention_mask]</td>\n",
              "    </tr>\n",
              "    <tr>\n",
              "      <th>22497</th>\n",
              "      <td>7136</td>\n",
              "      <td>we be not allow to vote on it</td>\n",
              "      <td>1</td>\n",
              "      <td>0.00</td>\n",
              "      <td>0.000000</td>\n",
              "      <td>8</td>\n",
              "      <td>[input_ids, attention_mask]</td>\n",
              "    </tr>\n",
              "    <tr>\n",
              "      <th>22498</th>\n",
              "      <td>181</td>\n",
              "      <td>More Americans at work today than any time in ...</td>\n",
              "      <td>1</td>\n",
              "      <td>0.65</td>\n",
              "      <td>0.625000</td>\n",
              "      <td>17</td>\n",
              "      <td>[input_ids, attention_mask]</td>\n",
              "    </tr>\n",
              "    <tr>\n",
              "      <th>22499</th>\n",
              "      <td>12863</td>\n",
              "      <td>we indicate at that time that we be not go to ...</td>\n",
              "      <td>1</td>\n",
              "      <td>-0.10</td>\n",
              "      <td>0.100000</td>\n",
              "      <td>13</td>\n",
              "      <td>[input_ids, attention_mask]</td>\n",
              "    </tr>\n",
              "    <tr>\n",
              "      <th>22500</th>\n",
              "      <td>11400</td>\n",
              "      <td>peace in the Middle East be in our nation be i...</td>\n",
              "      <td>0</td>\n",
              "      <td>0.00</td>\n",
              "      <td>0.000000</td>\n",
              "      <td>11</td>\n",
              "      <td>[input_ids, attention_mask]</td>\n",
              "    </tr>\n",
              "  </tbody>\n",
              "</table>\n",
              "<p>22501 rows × 7 columns</p>\n",
              "</div>"
            ],
            "text/plain": [
              "      sentence_id                                               text  \\\n",
              "0           30313  and so I know that this campaign have cause so...   \n",
              "1           19099  now let be balance the budget and protect Medi...   \n",
              "2           33964                  I would like to mention one thing   \n",
              "3           16871  I must remind he the Democrats have control th...   \n",
              "4           13150  and to take a chance uh   now be   and not mak...   \n",
              "...           ...                                                ...   \n",
              "22496       29631                 it would be squander too believe I   \n",
              "22497        7136                      we be not allow to vote on it   \n",
              "22498         181  More Americans at work today than any time in ...   \n",
              "22499       12863  we indicate at that time that we be not go to ...   \n",
              "22500       11400  peace in the Middle East be in our nation be i...   \n",
              "\n",
              "       class_label  sentiment  subjectivity  word_count  \\\n",
              "0                0       0.50      0.500000          22   \n",
              "1                0       0.00      0.000000          14   \n",
              "2                0       0.00      0.000000           7   \n",
              "3                1       0.00      0.066667          22   \n",
              "4                0       0.80      0.750000          32   \n",
              "...            ...        ...           ...         ...   \n",
              "22496            0       0.00      0.000000           7   \n",
              "22497            1       0.00      0.000000           8   \n",
              "22498            1       0.65      0.625000          17   \n",
              "22499            1      -0.10      0.100000          13   \n",
              "22500            0       0.00      0.000000          11   \n",
              "\n",
              "                    tokenized_text  \n",
              "0      [input_ids, attention_mask]  \n",
              "1      [input_ids, attention_mask]  \n",
              "2      [input_ids, attention_mask]  \n",
              "3      [input_ids, attention_mask]  \n",
              "4      [input_ids, attention_mask]  \n",
              "...                            ...  \n",
              "22496  [input_ids, attention_mask]  \n",
              "22497  [input_ids, attention_mask]  \n",
              "22498  [input_ids, attention_mask]  \n",
              "22499  [input_ids, attention_mask]  \n",
              "22500  [input_ids, attention_mask]  \n",
              "\n",
              "[22501 rows x 7 columns]"
            ]
          },
          "execution_count": 7,
          "metadata": {},
          "output_type": "execute_result"
        }
      ],
      "source": [
        "from transformers import XLMRobertaTokenizer\n",
        "\n",
        "# Initialize the XLM-RoBERTa tokenizer\n",
        "tokenizer = XLMRobertaTokenizer.from_pretrained(\"xlm-roberta-large\")\n",
        "\n",
        "\n",
        "def tokenize_text(text):\n",
        "    tokenized_text = tokenizer(text, truncation=True, padding=\"max_length\", return_tensors=\"pt\", max_length=128)\n",
        "    return tokenized_text\n",
        "\n",
        "\n",
        "# Tokenization for XLM-RoBERTa-Large\n",
        "train_df[\"tokenized_text\"] = train_df[\"text\"].apply(tokenize_text)\n",
        "dev_df[\"tokenized_text\"] = dev_df[\"text\"].apply(tokenize_text)\n",
        "dev_test_df[\"tokenized_text\"] = dev_test_df[\"text\"].apply(tokenize_text)\n",
        "\n",
        "train_df[\"class_label\"] = train_df[\"class_label\"].apply(\n",
        "    lambda x: 1 if x == \"Yes\" else 0\n",
        ")\n",
        "dev_df[\"class_label\"] = dev_df[\"class_label\"].apply(lambda x: 1 if x == \"Yes\" else 0)\n",
        "dev_test_df[\"class_label\"] = dev_test_df[\"class_label\"].apply(\n",
        "    lambda x: 1 if x == \"Yes\" else 0\n",
        ")\n",
        "\n",
        "\n",
        "train_df"
      ]
    },
    {
      "cell_type": "code",
      "execution_count": 8,
      "metadata": {
        "id": "aRrOBXTGOVIy"
      },
      "outputs": [],
      "source": [
        "import json\n",
        "\n",
        "\n",
        "def convert_to_lists(tokenized_text):\n",
        "    return {key: value.tolist() for key, value in tokenized_text.items()}\n",
        "\n",
        "\n",
        "# Convert tokenized data to lists\n",
        "train_df[\"tokenized_text\"] = train_df[\"tokenized_text\"].apply(convert_to_lists)\n",
        "dev_df[\"tokenized_text\"] = dev_df[\"tokenized_text\"].apply(convert_to_lists)\n",
        "dev_test_df[\"tokenized_text\"] = dev_test_df[\"tokenized_text\"].apply(convert_to_lists)\n",
        "\n",
        "train_tokenized_lists = train_df[\"tokenized_text\"]\n",
        "dev_tokenized_lists = dev_df[\"tokenized_text\"]\n",
        "dev_test_tokenized_lists = dev_test_df[\"tokenized_text\"]\n",
        "\n",
        "# Save tokenized data to JSON files\n",
        "train_tokenized_lists.to_json(\n",
        "    \"../data/tokenized/train_tokenized.json\", orient=\"records\", lines=True\n",
        ")\n",
        "dev_tokenized_lists.to_json(\n",
        "    \"../data/tokenized/dev_tokenized.json\", orient=\"records\", lines=True\n",
        ")\n",
        "dev_test_tokenized_lists.to_json(\n",
        "    \"../data/tokenized/dev_test_tokenized.json\", orient=\"records\", lines=True\n",
        ")"
      ]
    },
    {
      "cell_type": "code",
      "execution_count": 9,
      "metadata": {},
      "outputs": [],
      "source": [
        "def add_ids_and_mask(row):\n",
        "    row[\"input_ids\"] = row[\"tokenized_text\"][\"input_ids\"]\n",
        "    row[\"attention_mask\"] = row[\"tokenized_text\"][\"attention_mask\"]\n",
        "    del row[\"tokenized_text\"]\n",
        "    return row\n",
        "\n",
        "\n",
        "train_df = train_df.apply(add_ids_and_mask, axis=1)\n",
        "dev_df = dev_df.apply(add_ids_and_mask, axis=1)\n",
        "dev_test_df = dev_test_df.apply(add_ids_and_mask, axis=1)"
      ]
    },
    {
      "cell_type": "code",
      "execution_count": 10,
      "metadata": {},
      "outputs": [],
      "source": [
        "train_df.to_csv(\"../data/processed/processed_train_complete.csv\")\n",
        "dev_df.to_csv(\"../data/processed/processed_dev_complete.csv\")\n",
        "dev_test_df.to_csv(\"../data/processed/processed_dev_test_complete.csv\")"
      ]
    }
  ],
  "metadata": {
    "colab": {
      "provenance": []
    },
    "kernelspec": {
      "display_name": "Python 3",
      "name": "python3"
    },
    "language_info": {
      "codemirror_mode": {
        "name": "ipython",
        "version": 3
      },
      "file_extension": ".py",
      "mimetype": "text/x-python",
      "name": "python",
      "nbconvert_exporter": "python",
      "pygments_lexer": "ipython3",
      "version": "3.11.7"
    }
  },
  "nbformat": 4,
  "nbformat_minor": 0
}
